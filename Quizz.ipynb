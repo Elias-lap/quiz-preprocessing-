{
  "cells": [
    {
      "cell_type": "markdown",
      "metadata": {
        "id": "h0p1oPYhHajw"
      },
      "source": [
        "# Python Quiz EngOrabi"
      ]
    },
    {
      "cell_type": "markdown",
      "metadata": {
        "id": "3_F9HFosHgzN"
      },
      "source": [
        "## 1- Create a 5×5 matrix with random integers from 1–100. Replace all values greater than 50 with 0."
      ]
    },
    {
      "cell_type": "code",
      "execution_count": 174,
      "metadata": {
        "id": "W2Gj7MndHQpj"
      },
      "outputs": [
        {
          "name": "stdout",
          "output_type": "stream",
          "text": [
            "[[ 0  0  0  0 42]\n",
            " [ 0  0  0  0  0]\n",
            " [ 0  0  0  0  0]\n",
            " [38  0 28  0  0]\n",
            " [ 0  0  0  0  0]]\n"
          ]
        }
      ],
      "source": [
        "import numpy as np\n",
        "arr = np.random.randint(1, 100, (5, 5))\n",
        "arr[arr > 50] = 0\n",
        "print(arr)\n"
      ]
    },
    {
      "cell_type": "markdown",
      "metadata": {
        "id": "bKPSFYDFH2nW"
      },
      "source": [
        "## 2- Generate a 1D NumPy array of 50 random integers (1–100). Find the mean, median, variance, and standard deviation."
      ]
    },
    {
      "cell_type": "code",
      "execution_count": 175,
      "metadata": {
        "id": "RTlr0re7HyDp"
      },
      "outputs": [
        {
          "name": "stdout",
          "output_type": "stream",
          "text": [
            "49.0\n",
            "768.0500000000002\n",
            "27.71371501621535\n"
          ]
        }
      ],
      "source": [
        "arr = np.random.randint(1, 100,size=50 )\n",
        "median_val = np.median(arr) \n",
        "var_val = np.var(arr)        \n",
        "std_val = np.std(arr)   \n",
        "print(median_val)\n",
        "print(var_val)  \n",
        "print(std_val)\n"
      ]
    },
    {
      "cell_type": "markdown",
      "metadata": {
        "id": "I7ZXdvN9IaJl"
      },
      "source": [
        "## 3- Create two arrays of shape (5,). Stack them into a 2D array Vertically and Horizntally"
      ]
    },
    {
      "cell_type": "code",
      "execution_count": 176,
      "metadata": {
        "id": "MHX0jRCiInhq"
      },
      "outputs": [
        {
          "name": "stdout",
          "output_type": "stream",
          "text": [
            "[[ 1  2  3  4  5]\n",
            " [ 6  7  8  9 10]]\n",
            "[[ 1  6]\n",
            " [ 2  7]\n",
            " [ 3  8]\n",
            " [ 4  9]\n",
            " [ 5 10]]\n"
          ]
        }
      ],
      "source": [
        "a = np.array([1, 2, 3, 4, 5])\n",
        "b = np.array([6, 7, 8, 9, 10])\n",
        "v_stack = np.vstack((a, b))\n",
        "print(v_stack)\n",
        "h_stack = np.column_stack((a, b))\n",
        "print(h_stack)\n"
      ]
    },
    {
      "cell_type": "markdown",
      "metadata": {
        "id": "DQ7is12YIoHM"
      },
      "source": [
        "## 4-Create two arrays of any shape and stack them vertically and Horizontally"
      ]
    },
    {
      "cell_type": "code",
      "execution_count": 177,
      "metadata": {
        "id": "qyPNM2TlI5_n"
      },
      "outputs": [
        {
          "name": "stdout",
          "output_type": "stream",
          "text": [
            "[[ 1  2  3]\n",
            " [ 4  5  6]\n",
            " [ 7  8  9]\n",
            " [10 11 12]]\n",
            "[[ 1  2  3  7  8  9]\n",
            " [ 4  5  6 10 11 12]]\n"
          ]
        }
      ],
      "source": [
        "a = np.array([[1, 2, 3],\n",
        "              [4, 5, 6]])\n",
        "\n",
        "b = np.array([[7, 8, 9],\n",
        "              [10, 11, 12]])\n",
        "v_stack = np.vstack((a, b))\n",
        "print(v_stack)\n",
        "h_stack = np.column_stack((a, b))\n",
        "print(h_stack)"
      ]
    },
    {
      "cell_type": "markdown",
      "metadata": {
        "id": "luYv-2KBI6jP"
      },
      "source": [
        "## 5- Create a 7×7 matrix with random integers. Extract the first row, last row, first column, and last column."
      ]
    },
    {
      "cell_type": "code",
      "execution_count": 178,
      "metadata": {
        "id": "1Fqy_BhIJCdV"
      },
      "outputs": [
        {
          "name": "stdout",
          "output_type": "stream",
          "text": [
            "[[61 12 43 15  8 99 83]\n",
            " [47 19 93 29 85 30 98]\n",
            " [ 4 65 68 88 85 21 46]\n",
            " [ 2 25 57 15 92 30 76]\n",
            " [79 83 30 86  5 32 10]\n",
            " [35 71 12 24 26 71 71]\n",
            " [95 47 59 87 52 24  4]]\n",
            "First row: [61 12 43 15  8 99 83]\n",
            "Last row: [95 47 59 87 52 24  4]\n",
            "First column: [61 47  4  2 79 35 95]\n",
            "Last column: [83 98 46 76 10 71  4]\n"
          ]
        }
      ],
      "source": [
        "import numpy as np\n",
        "\n",
        "arr = np.random.randint(1, 101, size=(7, 7))\n",
        "first_row = arr[0]      \n",
        "last_row = arr[-1]      \n",
        "first_col = arr[:, 0]    \n",
        "last_col = arr[:, -1] \n",
        "\n",
        "print(arr)\n",
        "print(\"First row:\", first_row)\n",
        "print(\"Last row:\", last_row)\n",
        "print(\"First column:\", first_col)\n",
        "print(\"Last column:\", last_col)\n"
      ]
    },
    {
      "cell_type": "markdown",
      "metadata": {
        "id": "uIIDpW9nJC-R"
      },
      "source": [
        "## 6- Create a 1D array of 15 random integers.Find the elements greater than the mean."
      ]
    },
    {
      "cell_type": "code",
      "execution_count": 179,
      "metadata": {
        "id": "mBVrVmGCJRGX"
      },
      "outputs": [
        {
          "name": "stdout",
          "output_type": "stream",
          "text": [
            "[20 85 74 84 55  6 46 10 23  6 76 45 99 87 12]\n",
            "Mean: 48.53333333333333\n",
            "Numbers bigger than the mean: [85 74 84 55 76 99 87]\n"
          ]
        }
      ],
      "source": [
        "arr = np.random.randint(1, 101, size=15)\n",
        "mean_val = np.mean(arr)\n",
        "greater_than_mean = arr[arr > mean_val]\n",
        "\n",
        "print(arr)\n",
        "print(\"Mean:\", mean_val)\n",
        "print(\"Numbers bigger than the mean:\", greater_than_mean)"
      ]
    },
    {
      "cell_type": "markdown",
      "metadata": {
        "id": "4bdE-UtoJSKl"
      },
      "source": [
        "## 7- Load the Titanic dataset inside seaborn and print the information and statistical of the dataset \"titanic\""
      ]
    },
    {
      "cell_type": "code",
      "execution_count": 180,
      "metadata": {
        "id": "kV9KhxA3KVAu"
      },
      "outputs": [
        {
          "name": "stdout",
          "output_type": "stream",
          "text": [
            "<class 'pandas.core.frame.DataFrame'>\n",
            "RangeIndex: 891 entries, 0 to 890\n",
            "Data columns (total 15 columns):\n",
            " #   Column       Non-Null Count  Dtype   \n",
            "---  ------       --------------  -----   \n",
            " 0   survived     891 non-null    int64   \n",
            " 1   pclass       891 non-null    int64   \n",
            " 2   sex          891 non-null    object  \n",
            " 3   age          714 non-null    float64 \n",
            " 4   sibsp        891 non-null    int64   \n",
            " 5   parch        891 non-null    int64   \n",
            " 6   fare         891 non-null    float64 \n",
            " 7   embarked     889 non-null    object  \n",
            " 8   class        891 non-null    category\n",
            " 9   who          891 non-null    object  \n",
            " 10  adult_male   891 non-null    bool    \n",
            " 11  deck         203 non-null    category\n",
            " 12  embark_town  889 non-null    object  \n",
            " 13  alive        891 non-null    object  \n",
            " 14  alone        891 non-null    bool    \n",
            "dtypes: bool(2), category(2), float64(2), int64(4), object(5)\n",
            "memory usage: 80.7+ KB\n"
          ]
        },
        {
          "data": {
            "text/html": [
              "<div>\n",
              "<style scoped>\n",
              "    .dataframe tbody tr th:only-of-type {\n",
              "        vertical-align: middle;\n",
              "    }\n",
              "\n",
              "    .dataframe tbody tr th {\n",
              "        vertical-align: top;\n",
              "    }\n",
              "\n",
              "    .dataframe thead th {\n",
              "        text-align: right;\n",
              "    }\n",
              "</style>\n",
              "<table border=\"1\" class=\"dataframe\">\n",
              "  <thead>\n",
              "    <tr style=\"text-align: right;\">\n",
              "      <th></th>\n",
              "      <th>survived</th>\n",
              "      <th>pclass</th>\n",
              "      <th>age</th>\n",
              "      <th>sibsp</th>\n",
              "      <th>parch</th>\n",
              "      <th>fare</th>\n",
              "    </tr>\n",
              "  </thead>\n",
              "  <tbody>\n",
              "    <tr>\n",
              "      <th>count</th>\n",
              "      <td>891.000000</td>\n",
              "      <td>891.000000</td>\n",
              "      <td>714.000000</td>\n",
              "      <td>891.000000</td>\n",
              "      <td>891.000000</td>\n",
              "      <td>891.000000</td>\n",
              "    </tr>\n",
              "    <tr>\n",
              "      <th>mean</th>\n",
              "      <td>0.383838</td>\n",
              "      <td>2.308642</td>\n",
              "      <td>29.699118</td>\n",
              "      <td>0.523008</td>\n",
              "      <td>0.381594</td>\n",
              "      <td>32.204208</td>\n",
              "    </tr>\n",
              "    <tr>\n",
              "      <th>std</th>\n",
              "      <td>0.486592</td>\n",
              "      <td>0.836071</td>\n",
              "      <td>14.526497</td>\n",
              "      <td>1.102743</td>\n",
              "      <td>0.806057</td>\n",
              "      <td>49.693429</td>\n",
              "    </tr>\n",
              "    <tr>\n",
              "      <th>min</th>\n",
              "      <td>0.000000</td>\n",
              "      <td>1.000000</td>\n",
              "      <td>0.420000</td>\n",
              "      <td>0.000000</td>\n",
              "      <td>0.000000</td>\n",
              "      <td>0.000000</td>\n",
              "    </tr>\n",
              "    <tr>\n",
              "      <th>25%</th>\n",
              "      <td>0.000000</td>\n",
              "      <td>2.000000</td>\n",
              "      <td>20.125000</td>\n",
              "      <td>0.000000</td>\n",
              "      <td>0.000000</td>\n",
              "      <td>7.910400</td>\n",
              "    </tr>\n",
              "    <tr>\n",
              "      <th>50%</th>\n",
              "      <td>0.000000</td>\n",
              "      <td>3.000000</td>\n",
              "      <td>28.000000</td>\n",
              "      <td>0.000000</td>\n",
              "      <td>0.000000</td>\n",
              "      <td>14.454200</td>\n",
              "    </tr>\n",
              "    <tr>\n",
              "      <th>75%</th>\n",
              "      <td>1.000000</td>\n",
              "      <td>3.000000</td>\n",
              "      <td>38.000000</td>\n",
              "      <td>1.000000</td>\n",
              "      <td>0.000000</td>\n",
              "      <td>31.000000</td>\n",
              "    </tr>\n",
              "    <tr>\n",
              "      <th>max</th>\n",
              "      <td>1.000000</td>\n",
              "      <td>3.000000</td>\n",
              "      <td>80.000000</td>\n",
              "      <td>8.000000</td>\n",
              "      <td>6.000000</td>\n",
              "      <td>512.329200</td>\n",
              "    </tr>\n",
              "  </tbody>\n",
              "</table>\n",
              "</div>"
            ],
            "text/plain": [
              "         survived      pclass         age       sibsp       parch        fare\n",
              "count  891.000000  891.000000  714.000000  891.000000  891.000000  891.000000\n",
              "mean     0.383838    2.308642   29.699118    0.523008    0.381594   32.204208\n",
              "std      0.486592    0.836071   14.526497    1.102743    0.806057   49.693429\n",
              "min      0.000000    1.000000    0.420000    0.000000    0.000000    0.000000\n",
              "25%      0.000000    2.000000   20.125000    0.000000    0.000000    7.910400\n",
              "50%      0.000000    3.000000   28.000000    0.000000    0.000000   14.454200\n",
              "75%      1.000000    3.000000   38.000000    1.000000    0.000000   31.000000\n",
              "max      1.000000    3.000000   80.000000    8.000000    6.000000  512.329200"
            ]
          },
          "execution_count": 180,
          "metadata": {},
          "output_type": "execute_result"
        }
      ],
      "source": [
        "import seaborn as sns\n",
        "import pandas as pd\n",
        "\n",
        "titanic = sns.load_dataset(\"titanic\")\n",
        "\n",
        "titanic.info() \n",
        "titanic.describe()\n",
        "\n"
      ]
    },
    {
      "cell_type": "markdown",
      "metadata": {
        "id": "r2dopcKzKYV4"
      },
      "source": [
        "## 8- Show the distribution of survival rate by gender and class using a grouped bar chart."
      ]
    },
    {
      "cell_type": "code",
      "execution_count": 181,
      "metadata": {
        "id": "bjMfCKIOKdMT"
      },
      "outputs": [
        {
          "data": {
            "image/png": "[encoded data removed]",
            "text/plain": [
              "<Figure size 640x480 with 1 Axes>"
            ]
          },
          "metadata": {},
          "output_type": "display_data"
        }
      ],
      "source": [
        "import seaborn as sns\n",
        "import matplotlib.pyplot as plt\n",
        "\n",
        "titanic = sns.load_dataset(\"titanic\")\n",
        "\n",
        "sns.barplot(data=titanic, x=\"class\", y=\"survived\", hue=\"sex\")\n",
        "plt.title(\"Survival Rate by Gender and Class\")\n",
        "plt.ylabel(\"Survival Rate\")\n",
        "plt.show()\n"
      ]
    },
    {
      "cell_type": "markdown",
      "metadata": {
        "id": "d7oTLQBjK-7E"
      },
      "source": [
        "## 9- Plot the distribution of ages for survivors vs non-survivors using a KDE plot. Comment on whether younger passengers had higher survival chances."
      ]
    },
    {
      "cell_type": "code",
      "execution_count": 182,
      "metadata": {
        "id": "O_nctJTVLChf"
      },
      "outputs": [
        {
          "data": {
            "image/png": "[encoded data removed]",
            "text/plain": [
              "<Figure size 640x480 with 1 Axes>"
            ]
          },
          "metadata": {},
          "output_type": "display_data"
        }
      ],
      "source": [
        "titanic = sns.load_dataset(\"titanic\")\n",
        "sns.kdeplot(data=titanic, x=\"age\", hue=\"survived\", fill=True)\n",
        "plt.title(\"Age Distribution of Survivors vs Non-Survivors\")\n",
        "plt.xlabel(\"Age\")\n",
        "plt.ylabel(\"Density\")\n",
        "plt.show()\n"
      ]
    },
    {
      "cell_type": "markdown",
      "metadata": {
        "id": "93HXgWzXLDDJ"
      },
      "source": [
        "## 10- Show the number of passengers from each embarkation port (embarked).Plot their survival rate using a bar chart."
      ]
    },
    {
      "cell_type": "code",
      "execution_count": 183,
      "metadata": {
        "id": "wK0HyXyjLKMA"
      },
      "outputs": [
        {
          "name": "stdout",
          "output_type": "stream",
          "text": [
            "embarked\n",
            "S    644\n",
            "C    168\n",
            "Q     77\n",
            "Name: count, dtype: int64\n"
          ]
        },
        {
          "data": {
            "image/png": "[encoded data removed]",
            "text/plain": [
              "<Figure size 640x480 with 1 Axes>"
            ]
          },
          "metadata": {},
          "output_type": "display_data"
        },
        {
          "data": {
            "image/png": "[encoded data removed]",
            "text/plain": [
              "<Figure size 640x480 with 1 Axes>"
            ]
          },
          "metadata": {},
          "output_type": "display_data"
        }
      ],
      "source": [
        "titanic = sns.load_dataset(\"titanic\")\n",
        "\n",
        "# Count passengers per port\n",
        "print(titanic[\"embarked\"].value_counts())\n",
        "sns.countplot(data=titanic, x=\"embarked\")\n",
        "plt.title(\"Number of Passengers per Embarkation Port\")\n",
        "plt.show()\n",
        "\n",
        "sns.barplot(data=titanic, x=\"embarked\", y=\"survived\")\n",
        "plt.title(\"Survival Rate by Embarkation Port\")\n",
        "plt.ylabel(\"Survival Rate\")\n",
        "plt.show()"
      ]
    },
    {
      "cell_type": "markdown",
      "metadata": {
        "id": "g-gyVp3hLKsU"
      },
      "source": [
        "## 11- Create a new column family_size = sibsp + parch + 1. Find the average survival rate by family size."
      ]
    },
    {
      "cell_type": "code",
      "execution_count": 184,
      "metadata": {
        "id": "NEVRivjmLcyh"
      },
      "outputs": [
        {
          "name": "stdout",
          "output_type": "stream",
          "text": [
            "family_size\n",
            "1     0.303538\n",
            "2     0.552795\n",
            "3     0.578431\n",
            "4     0.724138\n",
            "5     0.200000\n",
            "6     0.136364\n",
            "7     0.333333\n",
            "8     0.000000\n",
            "11    0.000000\n",
            "Name: survived, dtype: float64\n"
          ]
        }
      ],
      "source": [
        "titanic[\"family_size\"] = titanic[\"sibsp\"] + titanic[\"parch\"] + 1\n",
        "family_survival = titanic.groupby(\"family_size\")[\"survived\"].mean()\n",
        "print(family_survival)"
      ]
    },
    {
      "cell_type": "markdown",
      "metadata": {
        "id": "GqJTeUQYLdeY"
      },
      "source": [
        "## 12- Find the rows of the passengers who paid the highest fare"
      ]
    },
    {
      "cell_type": "code",
      "execution_count": 185,
      "metadata": {
        "id": "roKqRXdHLgm-"
      },
      "outputs": [
        {
          "name": "stdout",
          "output_type": "stream",
          "text": [
            "Highest fare: 512.3292\n",
            "     survived  pclass     sex   age  sibsp  parch      fare embarked  class  \\\n",
            "258         1       1  female  35.0      0      0  512.3292        C  First   \n",
            "679         1       1    male  36.0      0      1  512.3292        C  First   \n",
            "737         1       1    male  35.0      0      0  512.3292        C  First   \n",
            "\n",
            "       who  adult_male deck embark_town alive  alone  \n",
            "258  woman       False  NaN   Cherbourg   yes   True  \n",
            "679    man        True    B   Cherbourg   yes  False  \n",
            "737    man        True    B   Cherbourg   yes   True  \n"
          ]
        }
      ],
      "source": [
        "titanic = sns.load_dataset(\"titanic\")\n",
        "\n",
        "max_fare = titanic[\"fare\"].max()\n",
        "print(\"Highest fare:\", max_fare)\n",
        "highest_fare_rows = titanic[titanic[\"fare\"] == max_fare]\n",
        "print(highest_fare_rows)"
      ]
    },
    {
      "cell_type": "markdown",
      "metadata": {
        "id": "EkY7uy9TLoyf"
      },
      "source": [
        "## 13- Compute survival rate for each embarkation port (embarked) with two aggregation functions mean and counnt"
      ]
    },
    {
      "cell_type": "code",
      "execution_count": 186,
      "metadata": {
        "id": "Rmub2XgYLzr7"
      },
      "outputs": [
        {
          "name": "stdout",
          "output_type": "stream",
          "text": [
            "              mean  count\n",
            "embarked                 \n",
            "C         0.553571    168\n",
            "Q         0.389610     77\n",
            "S         0.336957    644\n"
          ]
        }
      ],
      "source": [
        "titanic = sns.load_dataset(\"titanic\")\n",
        "\n",
        "result = titanic.groupby(\"embarked\")[\"survived\"].agg([\"mean\", \"count\"])\n",
        "print(result)"
      ]
    },
    {
      "cell_type": "markdown",
      "metadata": {
        "id": "Q4o7a5TbL0Kz"
      },
      "source": [
        "## 14- Show a crosstab of passenger counts by sex and pclass."
      ]
    },
    {
      "cell_type": "code",
      "execution_count": 187,
      "metadata": {
        "id": "G0PA_nNzL6ns"
      },
      "outputs": [
        {
          "name": "stdout",
          "output_type": "stream",
          "text": [
            "pclass    1    2    3\n",
            "sex                  \n",
            "female   94   76  144\n",
            "male    122  108  347\n"
          ]
        }
      ],
      "source": [
        "titanic = sns.load_dataset(\"titanic\")\n",
        "\n",
        "crosstab = pd.crosstab(titanic[\"sex\"], titanic[\"pclass\"])\n",
        "print(crosstab)"
      ]
    },
    {
      "cell_type": "markdown",
      "metadata": {
        "id": "tYYQ3NI_Mbb4"
      },
      "source": [
        "## 15-Select all passengers who are female and traveled in class 1st. From this subset, further filter those whose age is less than 30."
      ]
    },
    {
      "cell_type": "code",
      "execution_count": 188,
      "metadata": {
        "id": "G8cGITv8MdX8"
      },
      "outputs": [
        {
          "name": "stdout",
          "output_type": "stream",
          "text": [
            "     survived  pclass     sex   age  sibsp  parch      fare embarked  class  \\\n",
            "88          1       1  female  23.0      3      2  263.0000        S  First   \n",
            "136         1       1  female  19.0      0      2   26.2833        S  First   \n",
            "151         1       1  female  22.0      1      0   66.6000        S  First   \n",
            "290         1       1  female  26.0      0      0   78.8500        S  First   \n",
            "291         1       1  female  19.0      1      0   91.0792        C  First   \n",
            "\n",
            "       who  adult_male deck  embark_town alive  alone  \n",
            "88   woman       False    C  Southampton   yes  False  \n",
            "136  woman       False    D  Southampton   yes  False  \n",
            "151  woman       False    C  Southampton   yes  False  \n",
            "290  woman       False  NaN  Southampton   yes   True  \n",
            "291  woman       False    B    Cherbourg   yes  False  \n"
          ]
        }
      ],
      "source": [
        "import seaborn as sns\n",
        "titanic = sns.load_dataset(\"titanic\")\n",
        "\n",
        "subset = titanic[(titanic[\"sex\"] == \"female\") & \n",
        "                 (titanic[\"class\"] == \"First\") & \n",
        "                 (titanic[\"age\"] < 30)]\n",
        "\n",
        "print(subset.head())\n"
      ]
    },
    {
      "cell_type": "markdown",
      "metadata": {
        "id": "xP1ObUlCMd29"
      },
      "source": [
        "## 16-Select all passengers who either paid a fare > 100 or were in \"First\" class. From the result, remove passengers whose embarked port was \"Q\""
      ]
    },
    {
      "cell_type": "code",
      "execution_count": 189,
      "metadata": {
        "id": "6ijYXb8RMjvI"
      },
      "outputs": [
        {
          "name": "stdout",
          "output_type": "stream",
          "text": [
            "    survived  pclass     sex   age  sibsp  parch     fare embarked  class  \\\n",
            "1          1       1  female  38.0      1      0  71.2833        C  First   \n",
            "3          1       1  female  35.0      1      0  53.1000        S  First   \n",
            "6          0       1    male  54.0      0      0  51.8625        S  First   \n",
            "11         1       1  female  58.0      0      0  26.5500        S  First   \n",
            "23         1       1    male  28.0      0      0  35.5000        S  First   \n",
            "\n",
            "      who  adult_male deck  embark_town alive  alone  \n",
            "1   woman       False    C    Cherbourg   yes  False  \n",
            "3   woman       False    C  Southampton   yes  False  \n",
            "6     man        True    E  Southampton    no   True  \n",
            "11  woman       False    C  Southampton   yes   True  \n",
            "23    man        True    A  Southampton   yes   True  \n"
          ]
        }
      ],
      "source": [
        "import seaborn as sns\n",
        "titanic = sns.load_dataset(\"titanic\")\n",
        "\n",
        "condition1 = (titanic[\"fare\"] > 100) | (titanic[\"class\"] == \"First\")\n",
        "\n",
        "condition2 = titanic[\"embarked\"] != \"Q\"\n",
        "\n",
        "subset = titanic[condition1 & condition2]\n",
        "print(subset.head())\n"
      ]
    },
    {
      "cell_type": "markdown",
      "metadata": {
        "id": "-Va1U-k-Mlyc"
      },
      "source": [
        "## 17- sort the Titanic passengers: First by pclass in ascending order. Then by fare in descending order on one line code do not make them individual"
      ]
    },
    {
      "cell_type": "code",
      "execution_count": 190,
      "metadata": {
        "id": "flS3K9NWMyWM"
      },
      "outputs": [
        {
          "name": "stdout",
          "output_type": "stream",
          "text": [
            "     survived  pclass     sex   age  sibsp  parch      fare embarked  class  \\\n",
            "258         1       1  female  35.0      0      0  512.3292        C  First   \n",
            "679         1       1    male  36.0      0      1  512.3292        C  First   \n",
            "737         1       1    male  35.0      0      0  512.3292        C  First   \n",
            "27          0       1    male  19.0      3      2  263.0000        S  First   \n",
            "88          1       1  female  23.0      3      2  263.0000        S  First   \n",
            "\n",
            "       who  adult_male deck  embark_town alive  alone  \n",
            "258  woman       False  NaN    Cherbourg   yes   True  \n",
            "679    man        True    B    Cherbourg   yes  False  \n",
            "737    man        True    B    Cherbourg   yes   True  \n",
            "27     man        True    C  Southampton    no  False  \n",
            "88   woman       False    C  Southampton   yes  False  \n"
          ]
        }
      ],
      "source": [
        "import seaborn as sns\n",
        "titanic = sns.load_dataset(\"titanic\")\n",
        "\n",
        "sorted_passengers = titanic.sort_values(\n",
        "    by=[\"pclass\", \"fare\"],\n",
        "    ascending=[True, False]\n",
        ")\n",
        "\n",
        "print(sorted_passengers.head())\n"
      ]
    },
    {
      "cell_type": "markdown",
      "metadata": {
        "id": "4QnuaHmCM002"
      },
      "source": [
        "## 18- Rank passengers within each passenger class (pclass) separately based on their (fare)."
      ]
    },
    {
      "cell_type": "code",
      "execution_count": 191,
      "metadata": {
        "id": "F9B7yoR7NFKD"
      },
      "outputs": [
        {
          "name": "stdout",
          "output_type": "stream",
          "text": [
            "   pclass     fare  fare_rank\n",
            "0       3   7.2500      427.0\n",
            "1       1  71.2833       98.0\n",
            "2       3   7.9250      271.5\n",
            "3       1  53.1000      123.0\n",
            "4       3   8.0500      240.0\n",
            "5       3   8.4583      211.0\n",
            "6       1  51.8625      136.5\n",
            "7       3  21.0750       75.5\n",
            "8       3  11.1333      162.0\n",
            "9       2  30.0708       23.5\n"
          ]
        }
      ],
      "source": [
        "titanic = sns.load_dataset(\"titanic\")\n",
        "\n",
        "titanic[\"fare_rank\"] = titanic.groupby(\"pclass\")[\"fare\"].rank(ascending=False)\n",
        "\n",
        "print(titanic[[\"pclass\", \"fare\", \"fare_rank\"]].head(10))"
      ]
    },
    {
      "cell_type": "markdown",
      "metadata": {
        "id": "ksdWpGuDNHpg"
      },
      "source": [
        "## 19- Preprocessing Questions Get this Dataset import it and get ready for the next questions  [link Data](https://drive.google.com/file/d/1Vb_JqIVM0Gy47_JXiTUIROVpd6ylOy7a/view?usp=sharing)"
      ]
    },
    {
      "cell_type": "code",
      "execution_count": 192,
      "metadata": {
        "id": "KnU1MEgMNKC6"
      },
      "outputs": [
        {
          "data": {
            "text/plain": [
              "(148670, 34)"
            ]
          },
          "execution_count": 192,
          "metadata": {},
          "output_type": "execute_result"
        }
      ],
      "source": [
        "import pandas as pd\n",
        "\n",
        "# load CSV file\n",
        "df = pd.read_csv(\"data/Loan_Default.csv\")\n",
        "# df.info()\n",
        "# print(df.head())\n",
        "# df.describe()\n",
        "df.shape\n",
        "\n",
        "\n"
      ]
    },
    {
      "cell_type": "markdown",
      "metadata": {
        "id": "7ERNGJSTNKdS"
      },
      "source": [
        "## 20- Handle Missing Values\n",
        "### 1- Identify which columns contain missing values.\n",
        "### 2- Decide for each type of feature (numerical / categorical) how to fill missing values.\n",
        "### 3- Justify why you used this method."
      ]
    },
    {
      "cell_type": "code",
      "execution_count": 193,
      "metadata": {},
      "outputs": [
        {
          "name": "stdout",
          "output_type": "stream",
          "text": [
            "Missing values in categorical columns after imputation:\n",
            "age                          0\n",
            "submission_of_application    0\n",
            "Neg_ammortization            0\n",
            "loan_purpose                 0\n",
            "approv_in_adv                0\n",
            "loan_limit                   0\n",
            "dtype: int64\n",
            "Missing values in numeric columns after imputation:\n",
            "property_value    0\n",
            "term              0\n",
            "income            0\n",
            "dtir1             0\n",
            "dtype: int64\n"
          ]
        }
      ],
      "source": [
        "from sklearn.impute import SimpleImputer\n",
        "\n",
        "# 1. Drop columns with too many missing values\n",
        "df = df.drop(columns=['rate_of_interest', 'Interest_rate_spread', 'Upfront_charges'])\n",
        "\n",
        "# 2. Handle numeric columns with median\n",
        "numeric_cols = ['property_value', 'term', 'income', 'dtir1']\n",
        "num_imputer = SimpleImputer(strategy=\"median\")   \n",
        "df[numeric_cols] = num_imputer.fit_transform(df[numeric_cols])\n",
        "\n",
        "# 3. Recalculate LTV from loan_amount and property_value\n",
        "df['LTV'] = (df['loan_amount'] / df['property_value']) * 100\n",
        "\n",
        "# 4. Handle categorical columns with most frequent (mode)\n",
        "categorical_cols = [\n",
        "    'age',\n",
        "    'submission_of_application',\n",
        "    'Neg_ammortization',\n",
        "    'loan_purpose',\n",
        "    'approv_in_adv',\n",
        "    'loan_limit'\n",
        "]\n",
        "\n",
        "imputer = SimpleImputer(strategy=\"most_frequent\")\n",
        "df[categorical_cols] = imputer.fit_transform(df[categorical_cols])\n",
        "\n",
        "# 5. Verify missing values in categorical columns\n",
        "categorical_cols_missing = df[categorical_cols].isna().sum()\n",
        "print(\"Missing values in categorical columns after imputation:\")\n",
        "print(categorical_cols_missing)\n",
        "\n",
        "#6 verify missing values in numerical columns\n",
        "numeric_cols_missing = df[numeric_cols].isna().sum()\n",
        "print(\"Missing values in numeric columns after imputation:\")\n",
        "print(numeric_cols_missing)\n"
      ]
    },
    {
      "cell_type": "markdown",
      "metadata": {
        "id": "UhptEU5LXyo3"
      },
      "source": [
        "## 21. Encode Categorical Variables\n",
        "### 1- Detect all categorical features (e.g., Gender, loan_type, loan_purpose, Region, Security_Type, etc.).\n",
        "### 2- Choose an appropriate encoding method for each column:\n",
        "### 3- Nominal categorical features (no ranking between categories).\n",
        "### 4- Ordinal categorical features (if categories have an order).\n",
        "### 5- After encoding, check the number of features and explain if the dimensionality increased."
      ]
    },
    {
      "cell_type": "code",
      "execution_count": null,
      "metadata": {
        "id": "BoCm-4aXX-Yl"
      },
      "outputs": [],
      "source": []
    },
    {
      "cell_type": "markdown",
      "metadata": {
        "id": "wGHrdQn4YAte"
      },
      "source": [
        "## 22. Feature Scaling\n",
        "### 1- Select numeric features (e.g., Credit_Score, dtir1, LTV, etc.).\n",
        "### 2- Apply a scaling method of your choice (e.g., StandardScaler, MinMaxScaler, or others).\n",
        "### 3- Explain why you chose this method.\n",
        "### 4- Make sure scaling is applied correctly without causing data leakage."
      ]
    },
    {
      "cell_type": "code",
      "execution_count": null,
      "metadata": {
        "id": "--idARHcYFp_"
      },
      "outputs": [],
      "source": []
    },
    {
      "cell_type": "markdown",
      "metadata": {
        "id": "P1jFQnGPYLf-"
      },
      "source": [
        "## 23- Handle Class Imbalance\n",
        "### 1-Check the distribution of the target column (Status).\n",
        "### 2-If the dataset is imbalanced, apply a suitable technique to balance the data\n",
        "### 3- Compare class distribution before and after handling imbalance."
      ]
    },
    {
      "cell_type": "code",
      "execution_count": null,
      "metadata": {
        "id": "xJ0EuRuLYUhA"
      },
      "outputs": [],
      "source": []
    },
    {
      "cell_type": "markdown",
      "metadata": {
        "id": "7I8R6Nh-YWft"
      },
      "source": [
        "## 24- Train-Test Split\n",
        "### 1- Split the dataset into train (80%) and test (20%) sets.\n",
        "### 2- Make sure that transformations and scaling are fitted only on training data and applied to test data separately."
      ]
    },
    {
      "cell_type": "code",
      "execution_count": null,
      "metadata": {
        "id": "x4YWxFhOYkS3"
      },
      "outputs": [],
      "source": []
    }
  ],
  "metadata": {
    "colab": {
      "provenance": []
    },
    "kernelspec": {
      "display_name": "base",
      "language": "python",
      "name": "python3"
    },
    "language_info": {
      "codemirror_mode": {
        "name": "ipython",
        "version": 3
      },
      "file_extension": ".py",
      "mimetype": "text/x-python",
      "name": "python",
      "nbconvert_exporter": "python",
      "pygments_lexer": "ipython3",
      "version": "3.13.5"
    }
  },
  "nbformat": 4,
  "nbformat_minor": 0
}
